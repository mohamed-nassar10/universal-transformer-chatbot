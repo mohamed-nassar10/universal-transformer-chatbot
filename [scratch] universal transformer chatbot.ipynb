{
 "cells": [
  {
   "cell_type": "code",
   "execution_count": null,
   "metadata": {
    "id": "TL8j-7s7MtrH"
   },
   "outputs": [],
   "source": []
  },
  {
   "cell_type": "code",
   "execution_count": 1,
   "metadata": {
    "id": "0mzZakveMtrL"
   },
   "outputs": [],
   "source": [
    "\n",
    "import math\n",
    "from collections import Counter\n",
    "import json\n",
    "\n",
    "import matplotlib\n",
    "import matplotlib.pyplot as plt\n",
    "\n",
    "import torch\n",
    "import torch.nn as nn\n",
    "import torch.nn.functional as F\n",
    "from torch.utils.data import Dataset\n",
    "\n"
   ]
  },
  {
   "cell_type": "code",
   "execution_count": 2,
   "metadata": {
    "id": "vCulX1U8MtrZ"
   },
   "outputs": [],
   "source": [
    "\n",
    "from IPython.display import display as d\n",
    "# from IPython.display import Image\n",
    "\n"
   ]
  },
  {
   "cell_type": "code",
   "execution_count": 3,
   "metadata": {
    "id": "zt_7Gr3FMtra"
   },
   "outputs": [],
   "source": [
    "device = torch.device(\"cuda\" if torch.cuda.is_available() else \"cpu\")"
   ]
  },
  {
   "cell_type": "code",
   "execution_count": 4,
   "metadata": {
    "colab": {
     "base_uri": "https://localhost:8080/"
    },
    "id": "Vj1Pk0jcMtrb",
    "outputId": "57725be1-8d94-4e02-f7c2-3d63112a4943"
   },
   "outputs": [
    {
     "name": "stdout",
     "output_type": "stream",
     "text": [
      "File ‘cornell_movie_dialogs_corpus.zip’ already there; not retrieving.\n",
      "\n",
      "Archive:  cornell_movie_dialogs_corpus.zip\n",
      "'cornell movie-dialogs corpus'\t    __MACOSX\t\t sample_data\n",
      " cornell_movie_dialogs_corpus.zip   pairs_encoded.json\t WORDMAP_corpus.json\n"
     ]
    }
   ],
   "source": [
    "!wget -nc http://www.cs.cornell.edu/~cristian/data/cornell_movie_dialogs_corpus.zip\n",
    "!unzip -n cornell_movie_dialogs_corpus.zip\n",
    "!ls"
   ]
  },
  {
   "cell_type": "code",
   "execution_count": 5,
   "metadata": {
    "id": "eBmtwmaFMtrc"
   },
   "outputs": [],
   "source": [
    "corpus_movie_conv = 'cornell movie-dialogs corpus/movie_conversations.txt'\n",
    "corpus_movie_lines = 'cornell movie-dialogs corpus/movie_lines.txt'\n",
    "max_len = 25"
   ]
  },
  {
   "cell_type": "code",
   "execution_count": 6,
   "metadata": {
    "id": "N1MOOKpOMtrd"
   },
   "outputs": [],
   "source": [
    "with open(corpus_movie_conv, 'r') as c:\n",
    "    conv = c.readlines()"
   ]
  },
  {
   "cell_type": "code",
   "execution_count": 7,
   "metadata": {
    "id": "aRFix265Mtrf"
   },
   "outputs": [],
   "source": [
    "# with open(corpus_movie_lines, 'r') as l:\n",
    "with open(corpus_movie_lines, 'r', encoding='iso-8859-1') as l:\n",
    "    lines = l.readlines()"
   ]
  },
  {
   "cell_type": "code",
   "execution_count": 8,
   "metadata": {
    "colab": {
     "base_uri": "https://localhost:8080/"
    },
    "id": "QF8YJGoyMtrg",
    "outputId": "f925d17c-e9ef-4b90-d073-1268cd057b10"
   },
   "outputs": [
    {
     "name": "stdout",
     "output_type": "stream",
     "text": [
      "length:  83097 \n",
      "\n"
     ]
    },
    {
     "data": {
      "text/plain": [
       "[\"u0 +++$+++ u2 +++$+++ m0 +++$+++ ['L194', 'L195', 'L196', 'L197']\\n\",\n",
       " \"u0 +++$+++ u2 +++$+++ m0 +++$+++ ['L198', 'L199']\\n\",\n",
       " \"u0 +++$+++ u2 +++$+++ m0 +++$+++ ['L200', 'L201', 'L202', 'L203']\\n\",\n",
       " \"u0 +++$+++ u2 +++$+++ m0 +++$+++ ['L204', 'L205', 'L206']\\n\",\n",
       " \"u0 +++$+++ u2 +++$+++ m0 +++$+++ ['L207', 'L208']\\n\",\n",
       " \"u0 +++$+++ u2 +++$+++ m0 +++$+++ ['L271', 'L272', 'L273', 'L274', 'L275']\\n\",\n",
       " \"u0 +++$+++ u2 +++$+++ m0 +++$+++ ['L276', 'L277']\\n\",\n",
       " \"u0 +++$+++ u2 +++$+++ m0 +++$+++ ['L280', 'L281']\\n\",\n",
       " \"u0 +++$+++ u2 +++$+++ m0 +++$+++ ['L363', 'L364']\\n\",\n",
       " \"u0 +++$+++ u2 +++$+++ m0 +++$+++ ['L365', 'L366']\\n\"]"
      ]
     },
     "execution_count": 8,
     "metadata": {},
     "output_type": "execute_result"
    }
   ],
   "source": [
    "print('length: ', len(conv), '\\n')\n",
    "conv[:10]"
   ]
  },
  {
   "cell_type": "code",
   "execution_count": 9,
   "metadata": {
    "colab": {
     "base_uri": "https://localhost:8080/"
    },
    "id": "e_1JCV24Mtrh",
    "outputId": "7d191e96-ef4f-4a78-a9a8-953538a36ca9"
   },
   "outputs": [
    {
     "name": "stdout",
     "output_type": "stream",
     "text": [
      "length:  304713 \n",
      "\n"
     ]
    },
    {
     "data": {
      "text/plain": [
       "['L1045 +++$+++ u0 +++$+++ m0 +++$+++ BIANCA +++$+++ They do not!\\n',\n",
       " 'L1044 +++$+++ u2 +++$+++ m0 +++$+++ CAMERON +++$+++ They do to!\\n',\n",
       " 'L985 +++$+++ u0 +++$+++ m0 +++$+++ BIANCA +++$+++ I hope so.\\n',\n",
       " 'L984 +++$+++ u2 +++$+++ m0 +++$+++ CAMERON +++$+++ She okay?\\n',\n",
       " \"L925 +++$+++ u0 +++$+++ m0 +++$+++ BIANCA +++$+++ Let's go.\\n\",\n",
       " 'L924 +++$+++ u2 +++$+++ m0 +++$+++ CAMERON +++$+++ Wow\\n',\n",
       " \"L872 +++$+++ u0 +++$+++ m0 +++$+++ BIANCA +++$+++ Okay -- you're gonna need to learn how to lie.\\n\",\n",
       " 'L871 +++$+++ u2 +++$+++ m0 +++$+++ CAMERON +++$+++ No\\n',\n",
       " 'L870 +++$+++ u0 +++$+++ m0 +++$+++ BIANCA +++$+++ I\\'m kidding.  You know how sometimes you just become this \"persona\"?  And you don\\'t know how to quit?\\n',\n",
       " 'L869 +++$+++ u0 +++$+++ m0 +++$+++ BIANCA +++$+++ Like my fear of wearing pastels?\\n']"
      ]
     },
     "execution_count": 9,
     "metadata": {},
     "output_type": "execute_result"
    }
   ],
   "source": [
    "print('length: ', len(lines), '\\n')\n",
    "lines[:10]"
   ]
  },
  {
   "cell_type": "code",
   "execution_count": 10,
   "metadata": {
    "colab": {
     "base_uri": "https://localhost:8080/",
     "height": 53
    },
    "id": "UnKmnP4gMtri",
    "outputId": "76155788-0c9a-47c2-c2ad-c8aab0901289"
   },
   "outputs": [
    {
     "data": {
      "application/vnd.google.colaboratory.intrinsic+json": {
       "type": "string"
      },
      "text/plain": [
       "'L1045 +++$+++ u0 +++$+++ m0 +++$+++ BIANCA +++$+++ They do not!\\n'"
      ]
     },
     "metadata": {},
     "output_type": "display_data"
    },
    {
     "data": {
      "text/plain": [
       "['L1045', 'u0', 'm0', 'BIANCA', 'They do not!\\n']"
      ]
     },
     "metadata": {},
     "output_type": "display_data"
    }
   ],
   "source": [
    "d(lines[0])\n",
    "d(lines[0].split(' +++$+++ '))"
   ]
  },
  {
   "cell_type": "code",
   "execution_count": 11,
   "metadata": {
    "colab": {
     "base_uri": "https://localhost:8080/",
     "height": 54
    },
    "id": "uWeK70naMtri",
    "outputId": "74aa3b54-18b8-4612-e822-041c9005d1d7"
   },
   "outputs": [
    {
     "data": {
      "application/vnd.google.colaboratory.intrinsic+json": {
       "type": "string"
      },
      "text/plain": [
       "'L1045'"
      ]
     },
     "metadata": {},
     "output_type": "display_data"
    },
    {
     "data": {
      "application/vnd.google.colaboratory.intrinsic+json": {
       "type": "string"
      },
      "text/plain": [
       "'They do not!\\n'"
      ]
     },
     "metadata": {},
     "output_type": "display_data"
    }
   ],
   "source": [
    "d(lines[0].split(' +++$+++ ')[0])\n",
    "d(lines[0].split(' +++$+++ ')[-1])"
   ]
  },
  {
   "cell_type": "code",
   "execution_count": 12,
   "metadata": {
    "id": "y5qdeRdnMtrj"
   },
   "outputs": [],
   "source": [
    "lines_dic = {}\n",
    "for line in lines:\n",
    "    objects = line.split(' +++$+++ ')\n",
    "    lines_dic[objects[0]] = objects[-1]"
   ]
  },
  {
   "cell_type": "code",
   "execution_count": 13,
   "metadata": {
    "colab": {
     "base_uri": "https://localhost:8080/"
    },
    "id": "qChfr_zKMtrj",
    "outputId": "1e223291-af1c-43b6-c200-1f8cd33ee95b"
   },
   "outputs": [
    {
     "data": {
      "text/plain": [
       "[('L1045', 'They do not!\\n'),\n",
       " ('L1044', 'They do to!\\n'),\n",
       " ('L985', 'I hope so.\\n'),\n",
       " ('L984', 'She okay?\\n'),\n",
       " ('L925', \"Let's go.\\n\"),\n",
       " ('L924', 'Wow\\n'),\n",
       " ('L872', \"Okay -- you're gonna need to learn how to lie.\\n\"),\n",
       " ('L871', 'No\\n'),\n",
       " ('L870',\n",
       "  'I\\'m kidding.  You know how sometimes you just become this \"persona\"?  And you don\\'t know how to quit?\\n'),\n",
       " ('L869', 'Like my fear of wearing pastels?\\n')]"
      ]
     },
     "execution_count": 13,
     "metadata": {},
     "output_type": "execute_result"
    }
   ],
   "source": [
    "list(lines_dic.items())[:10]"
   ]
  },
  {
   "cell_type": "code",
   "execution_count": 14,
   "metadata": {
    "colab": {
     "base_uri": "https://localhost:8080/",
     "height": 35
    },
    "id": "Ebg9o-7HMtrj",
    "outputId": "a5e5aa4d-35d8-4402-abba-0dd6d269760f"
   },
   "outputs": [
    {
     "data": {
      "application/vnd.google.colaboratory.intrinsic+json": {
       "type": "string"
      },
      "text/plain": [
       "'Can we make this quick?  Roxanne Korrine and Andrew Barrett are having an incredibly horrendous public break- up on the quad.  Again.\\n'"
      ]
     },
     "execution_count": 14,
     "metadata": {},
     "output_type": "execute_result"
    }
   ],
   "source": [
    "lines_dic['L194']"
   ]
  },
  {
   "cell_type": "code",
   "execution_count": 15,
   "metadata": {
    "id": "qGmda_zvMtrk"
   },
   "outputs": [],
   "source": [
    "def remove_punc(string):\n",
    "    punctuations = '''!()-[]{};:'\"\\,<>./?@#$%^&*_~'''\n",
    "    no_punct = ''\n",
    "    for char in string:\n",
    "        if char not in punctuations:\n",
    "            no_punct += char  # space is also a character\n",
    "\n",
    "    return no_punct.lower()\n"
   ]
  },
  {
   "cell_type": "code",
   "execution_count": 16,
   "metadata": {
    "colab": {
     "base_uri": "https://localhost:8080/",
     "height": 35
    },
    "id": "IecCKYIUMtrk",
    "outputId": "8201bc0e-09ab-4b93-ee10-34c2eab59433"
   },
   "outputs": [
    {
     "data": {
      "application/vnd.google.colaboratory.intrinsic+json": {
       "type": "string"
      },
      "text/plain": [
       "'tgyusjihdys'"
      ]
     },
     "execution_count": 16,
     "metadata": {},
     "output_type": "execute_result"
    }
   ],
   "source": [
    "remove_punc('tgyusj!(@)ihdys')"
   ]
  },
  {
   "cell_type": "code",
   "execution_count": 17,
   "metadata": {
    "colab": {
     "base_uri": "https://localhost:8080/",
     "height": 88
    },
    "id": "iMJLmc_PMtrk",
    "outputId": "b59990ad-d7ee-4847-ac8a-ccc13d5c49dc"
   },
   "outputs": [
    {
     "data": {
      "application/vnd.google.colaboratory.intrinsic+json": {
       "type": "string"
      },
      "text/plain": [
       "\"u0 +++$+++ u2 +++$+++ m0 +++$+++ ['L194', 'L195', 'L196', 'L197']\\n\""
      ]
     },
     "metadata": {},
     "output_type": "display_data"
    },
    {
     "data": {
      "text/plain": [
       "['u0', 'u2', 'm0', \"['L194', 'L195', 'L196', 'L197']\\n\"]"
      ]
     },
     "metadata": {},
     "output_type": "display_data"
    },
    {
     "data": {
      "application/vnd.google.colaboratory.intrinsic+json": {
       "type": "string"
      },
      "text/plain": [
       "\"['L194', 'L195', 'L196', 'L197']\\n\""
      ]
     },
     "metadata": {},
     "output_type": "display_data"
    },
    {
     "data": {
      "text/plain": [
       "str"
      ]
     },
     "execution_count": 17,
     "metadata": {},
     "output_type": "execute_result"
    }
   ],
   "source": [
    "d(conv[0])\n",
    "d(conv[0].split(' +++$+++ '))\n",
    "d(conv[0].split(' +++$+++ ')[-1])\n",
    "type(conv[0].split(' +++$+++ ')[-1])"
   ]
  },
  {
   "cell_type": "code",
   "execution_count": 18,
   "metadata": {
    "colab": {
     "base_uri": "https://localhost:8080/"
    },
    "id": "VKxdz-KzMtrk",
    "outputId": "802bb531-dd51-4c34-8804-81b05ff4a116"
   },
   "outputs": [
    {
     "data": {
      "text/plain": [
       "['L194', 'L195', 'L196', 'L197']"
      ]
     },
     "execution_count": 18,
     "metadata": {},
     "output_type": "execute_result"
    }
   ],
   "source": [
    "eval(conv[0].split(' +++$+++ ')[-1])"
   ]
  },
  {
   "cell_type": "code",
   "execution_count": 19,
   "metadata": {
    "colab": {
     "base_uri": "https://localhost:8080/"
    },
    "id": "YW4x4pFYMtrl",
    "outputId": "b3734ba9-a019-44ad-9f1c-140f239d93a3"
   },
   "outputs": [
    {
     "data": {
      "text/plain": [
       "list"
      ]
     },
     "execution_count": 19,
     "metadata": {},
     "output_type": "execute_result"
    }
   ],
   "source": [
    "type(eval(conv[0].split(' +++$+++ ')[-1]))"
   ]
  },
  {
   "cell_type": "code",
   "execution_count": 20,
   "metadata": {
    "colab": {
     "base_uri": "https://localhost:8080/"
    },
    "id": "to7i4mIoMtrl",
    "outputId": "bb878c4e-9c7b-4780-9584-9d40dd94df84"
   },
   "outputs": [
    {
     "data": {
      "text/plain": [
       "4"
      ]
     },
     "execution_count": 20,
     "metadata": {},
     "output_type": "execute_result"
    }
   ],
   "source": [
    "len(eval(conv[0].split(' +++$+++ ')[-1]))"
   ]
  },
  {
   "cell_type": "code",
   "execution_count": 21,
   "metadata": {
    "colab": {
     "base_uri": "https://localhost:8080/",
     "height": 35
    },
    "id": "fiprq42LMtrl",
    "outputId": "92aba736-6b16-4aad-ed98-4c688920ef3b"
   },
   "outputs": [
    {
     "data": {
      "application/vnd.google.colaboratory.intrinsic+json": {
       "type": "string"
      },
      "text/plain": [
       "\"Okay... then how 'bout we try out some French cuisine.  Saturday?  Night?\\n\""
      ]
     },
     "execution_count": 21,
     "metadata": {},
     "output_type": "execute_result"
    }
   ],
   "source": [
    "lines_dic['L197']"
   ]
  },
  {
   "cell_type": "code",
   "execution_count": 22,
   "metadata": {
    "colab": {
     "base_uri": "https://localhost:8080/",
     "height": 35
    },
    "id": "HEqe4FaYMtrl",
    "outputId": "f6101f27-2d44-4ada-8a6e-8e51fdf564a9"
   },
   "outputs": [
    {
     "data": {
      "application/vnd.google.colaboratory.intrinsic+json": {
       "type": "string"
      },
      "text/plain": [
       "'okay then how bout we try out some french cuisine  saturday  night\\n'"
      ]
     },
     "execution_count": 22,
     "metadata": {},
     "output_type": "execute_result"
    }
   ],
   "source": [
    "remove_punc(lines_dic['L197'])"
   ]
  },
  {
   "cell_type": "code",
   "execution_count": 23,
   "metadata": {
    "id": "SYy7CxC1Mtrm"
   },
   "outputs": [],
   "source": [
    "\n",
    "pairs = []    # question and answers pairs\n",
    "\n",
    "for con in conv:\n",
    "    ids = eval(con.split(\" +++$+++ \")[-1])    # ['L194', 'L195', 'L196', 'L197']\n",
    "\n",
    "    for i in range(len(ids)):\n",
    "        qa_pairs = []\n",
    "\n",
    "        if i == len(ids) - 1:\n",
    "            break\n",
    "\n",
    "        first = remove_punc(lines_dic[ids[i]].strip())    #'okay then how bout we try out some french cuisine  saturday  night'\n",
    "        second = remove_punc(lines_dic[ids[i+1]].strip())\n",
    "\n",
    "        qa_pairs.append(first.split()[:max_len])    # ['okay, then, how, bout, we, try, out, some, french, cuisine, saturday, night']\n",
    "        qa_pairs.append(second.split()[:max_len])\n",
    "\n",
    "        pairs.append(qa_pairs)\n",
    "\n"
   ]
  },
  {
   "cell_type": "code",
   "execution_count": 24,
   "metadata": {
    "colab": {
     "base_uri": "https://localhost:8080/"
    },
    "id": "Jq89vsEkMtrm",
    "outputId": "5f3c7898-fb08-4f14-9c7a-8726d36264b1"
   },
   "outputs": [
    {
     "name": "stdout",
     "output_type": "stream",
     "text": [
      "length:  221616 \n",
      "\n",
      "[['can', 'we', 'make', 'this', 'quick', 'roxanne', 'korrine', 'and', 'andrew', 'barrett', 'are', 'having', 'an', 'incredibly', 'horrendous', 'public', 'break', 'up', 'on', 'the', 'quad', 'again'], ['well', 'i', 'thought', 'wed', 'start', 'with', 'pronunciation', 'if', 'thats', 'okay', 'with', 'you']]\n",
      "\n",
      "\n",
      "['can', 'we', 'make', 'this', 'quick', 'roxanne', 'korrine', 'and', 'andrew', 'barrett', 'are', 'having', 'an', 'incredibly', 'horrendous', 'public', 'break', 'up', 'on', 'the', 'quad', 'again']\n",
      "\n",
      "\n",
      "['well', 'i', 'thought', 'wed', 'start', 'with', 'pronunciation', 'if', 'thats', 'okay', 'with', 'you']\n"
     ]
    }
   ],
   "source": [
    "print('length: ', len(pairs), '\\n')\n",
    "print(pairs[0])\n",
    "print('\\n')\n",
    "print(pairs[0][0])\n",
    "print('\\n')\n",
    "print(pairs[0][1])"
   ]
  },
  {
   "cell_type": "code",
   "execution_count": 25,
   "metadata": {
    "id": "TmIgrlAvMtrm"
   },
   "outputs": [],
   "source": [
    "\n",
    "word_freq = Counter()\n",
    "\n",
    "for pair in pairs:\n",
    "    word_freq.update(pair[0])\n",
    "    word_freq.update(pair[1])\n",
    "\n"
   ]
  },
  {
   "cell_type": "code",
   "execution_count": 26,
   "metadata": {
    "colab": {
     "base_uri": "https://localhost:8080/"
    },
    "id": "Z_coVocnMtrm",
    "outputId": "35e8fb8a-f821-4da9-9912-9df0a28eb49e"
   },
   "outputs": [
    {
     "data": {
      "text/plain": [
       "[('can', 14103),\n",
       " ('we', 25912),\n",
       " ('make', 5821),\n",
       " ('this', 30502),\n",
       " ('quick', 310),\n",
       " ('roxanne', 1),\n",
       " ('korrine', 1),\n",
       " ('and', 52131),\n",
       " ('andrew', 49),\n",
       " ('barrett', 20)]"
      ]
     },
     "execution_count": 26,
     "metadata": {},
     "output_type": "execute_result"
    }
   ],
   "source": [
    "list(word_freq.items())[:10]"
   ]
  },
  {
   "cell_type": "code",
   "execution_count": 27,
   "metadata": {
    "colab": {
     "base_uri": "https://localhost:8080/"
    },
    "id": "gpdcEBplMtrm",
    "outputId": "e6b1c1c9-c8a9-4648-e852-f2183b73f125"
   },
   "outputs": [
    {
     "data": {
      "text/plain": [
       "['can',\n",
       " 'we',\n",
       " 'make',\n",
       " 'this',\n",
       " 'quick',\n",
       " 'and',\n",
       " 'andrew',\n",
       " 'barrett',\n",
       " 'are',\n",
       " 'having']"
      ]
     },
     "execution_count": 27,
     "metadata": {},
     "output_type": "execute_result"
    }
   ],
   "source": [
    "min_word_freq = 5\n",
    "words = [w for w in word_freq.keys() if word_freq[w] > min_word_freq]\n",
    "words[:10]"
   ]
  },
  {
   "cell_type": "code",
   "execution_count": 28,
   "metadata": {
    "id": "FJf0HQM_Mtrn"
   },
   "outputs": [],
   "source": [
    "\n",
    "# word_map = {k: idx + 1 for idx, k in enumerate(words)}\n",
    "word_map = {k: idx for idx, k in enumerate(words, start=1)}\n",
    "\n",
    "\n",
    "\n",
    "word_map['<start>'] = len(word_map) + 1      # len(word_map) increases after each step\n",
    "word_map['<end>']   = len(word_map) + 1\n",
    "word_map['<unk>']   = len(word_map) + 1\n",
    "word_map['<pad>']   = 0\n",
    "\n",
    "\n",
    "\n"
   ]
  },
  {
   "cell_type": "code",
   "execution_count": 29,
   "metadata": {
    "colab": {
     "base_uri": "https://localhost:8080/"
    },
    "id": "aml6s4kSMtrn",
    "outputId": "805a2e9f-3035-4d8e-d1e2-29ab46043e24"
   },
   "outputs": [
    {
     "data": {
      "text/plain": [
       "[('can', 1),\n",
       " ('we', 2),\n",
       " ('make', 3),\n",
       " ('this', 4),\n",
       " ('quick', 5),\n",
       " ('and', 6),\n",
       " ('andrew', 7),\n",
       " ('barrett', 8),\n",
       " ('are', 9),\n",
       " ('having', 10)]"
      ]
     },
     "execution_count": 29,
     "metadata": {},
     "output_type": "execute_result"
    }
   ],
   "source": [
    "list(word_map.items())[:10]"
   ]
  },
  {
   "cell_type": "code",
   "execution_count": 30,
   "metadata": {
    "colab": {
     "base_uri": "https://localhost:8080/"
    },
    "id": "h96UqS_nMtrn",
    "outputId": "e7213b40-3322-462f-fd80-a18b26e26664"
   },
   "outputs": [
    {
     "name": "stdout",
     "output_type": "stream",
     "text": [
      "Total words are: 18243\n"
     ]
    }
   ],
   "source": [
    "print(f\"Total words are: {len(word_map)}\")"
   ]
  },
  {
   "cell_type": "code",
   "execution_count": 31,
   "metadata": {
    "id": "9vQlW_VtMtrn"
   },
   "outputs": [],
   "source": [
    "\n",
    "with open('WORDMAP_corpus.json', 'w') as j:    # save word_map as json file\n",
    "    json.dump(word_map, j)\n",
    "\n"
   ]
  },
  {
   "cell_type": "code",
   "execution_count": 32,
   "metadata": {
    "id": "bLdqk9NAMtro"
   },
   "outputs": [],
   "source": [
    "\n",
    "def encode_question(words, word_map):\n",
    "\n",
    "    # encode words and pad short sentences\n",
    "    enc_c = [word_map.get(word, word_map['<unk>']) for word in words] \\\n",
    "            + [word_map['<pad>']] * (max_len - len(words))\n",
    "\n",
    "    return enc_c\n",
    "\n"
   ]
  },
  {
   "cell_type": "code",
   "execution_count": 33,
   "metadata": {
    "id": "XtpTNm1NMtro"
   },
   "outputs": [],
   "source": [
    "\n",
    "def encode_reply(words, word_map):\n",
    "\n",
    "    enc_c = [word_map['<start>']] \\\n",
    "            + [word_map.get(word, word_map['<unk>']) for word in words] \\\n",
    "            + [word_map['<end>']] \\\n",
    "            + [word_map['<pad>']] * (max_len - len(words))\n",
    "\n",
    "\n",
    "    return enc_c\n",
    "\n"
   ]
  },
  {
   "cell_type": "code",
   "execution_count": 34,
   "metadata": {
    "colab": {
     "base_uri": "https://localhost:8080/"
    },
    "id": "SeSRpC6FMtro",
    "outputId": "05f977d0-82c3-4c94-9af4-96bfe4091b6c"
   },
   "outputs": [
    {
     "name": "stdout",
     "output_type": "stream",
     "text": [
      "empty:  342\n",
      "pairs_encoded length:  221274\n"
     ]
    }
   ],
   "source": [
    "\n",
    "pairs_encoded = []\n",
    "c = 0\n",
    "\n",
    "for pair in pairs:\n",
    "\n",
    "    if not (any(pair[0]) and any(pair[1])):       # any([]) and any(['newer', 'more', 'powerful', 'design']) --> False\n",
    "        c += 1\n",
    "        continue\n",
    "\n",
    "\n",
    "    qus = encode_question(pair[0], word_map)\n",
    "    ans = encode_reply(pair[1], word_map)\n",
    "\n",
    "    pairs_encoded.append([qus, ans])\n",
    "\n",
    "\n",
    "print('empty: ', c)\n",
    "print('pairs_encoded length: ', len(pairs_encoded))\n",
    "\n"
   ]
  },
  {
   "cell_type": "code",
   "execution_count": 35,
   "metadata": {
    "colab": {
     "base_uri": "https://localhost:8080/"
    },
    "id": "vINK2HzQMtrr",
    "outputId": "25b2b55a-2a9b-4ee4-882e-1be59ce9950b"
   },
   "outputs": [
    {
     "name": "stdout",
     "output_type": "stream",
     "text": [
      "[1, 2, 3, 4, 5, 18242, 18242, 6, 7, 8, 9, 10, 11, 12, 18242, 13, 14, 15, 16, 17, 18242, 18, 0, 0, 0]\n",
      "\n",
      "\n",
      "[18240, 19, 20, 21, 22, 23, 24, 18242, 25, 26, 27, 24, 28, 18241, 0, 0, 0, 0, 0, 0, 0, 0, 0, 0, 0, 0, 0]\n"
     ]
    }
   ],
   "source": [
    "print(pairs_encoded[0][0])\n",
    "print('\\n')\n",
    "print(pairs_encoded[0][1])"
   ]
  },
  {
   "cell_type": "code",
   "execution_count": 36,
   "metadata": {
    "id": "L6C7vtAHMtrr"
   },
   "outputs": [],
   "source": [
    "\n",
    "with open('pairs_encoded.json', 'w') as p:\n",
    "    json.dump(pairs_encoded, p)\n"
   ]
  },
  {
   "cell_type": "code",
   "execution_count": 37,
   "metadata": {
    "id": "OSsw75eIMtrr"
   },
   "outputs": [],
   "source": [
    "# rev_word_map = {v: k for k, v in word_map.items()}\n",
    "# ' '.join([rev_word_map[v] for v in pairs_encoded[1][0]])"
   ]
  },
  {
   "cell_type": "code",
   "execution_count": 38,
   "metadata": {
    "id": "wN0vHQ9TMtrs"
   },
   "outputs": [],
   "source": [
    "\n",
    "class Dataset(Dataset):\n",
    "\n",
    "    def __init__(self):\n",
    "\n",
    "        self.pairs = json.load(open('pairs_encoded.json'))\n",
    "        self.dataset_size = len(self.pairs)\n",
    "\n",
    "    def __getitem__(self, i):\n",
    "\n",
    "        question = torch.LongTensor(self.pairs[i][0])\n",
    "        reply = torch.LongTensor(self.pairs[i][1])\n",
    "\n",
    "        return question, reply\n",
    "\n",
    "    def __len__(self):\n",
    "        return self.dataset_size\n",
    "\n"
   ]
  },
  {
   "cell_type": "code",
   "execution_count": 39,
   "metadata": {
    "id": "syo5dyvzMtrx"
   },
   "outputs": [],
   "source": [
    "\n",
    "train_loader = torch.utils.data.DataLoader(Dataset(),\n",
    "\n",
    "                                           # batch_size=100,\n",
    "                                           batch_size=64,\n",
    "                                           # batch_size=32,\n",
    "                                           # batch_size=16,\n",
    "                                           # batch_size=4,\n",
    "                                           # batch_size=1,\n",
    "\n",
    "                                           shuffle=True,\n",
    "                                           pin_memory=True)\n",
    "\n"
   ]
  },
  {
   "cell_type": "code",
   "execution_count": 40,
   "metadata": {
    "id": "2CjWa2HsMtry"
   },
   "outputs": [],
   "source": [
    "\n",
    "# question, reply = next(iter(train_loader))\n",
    "\n",
    "# print(question.shape)\n",
    "# print(reply.shape)\n",
    "\n",
    "# # torch.Size([64, 25])\n",
    "# # torch.Size([64, 27])\n"
   ]
  },
  {
   "cell_type": "code",
   "execution_count": 41,
   "metadata": {
    "id": "aA5yhdrxMtry"
   },
   "outputs": [],
   "source": [
    "\n",
    "# print(question[0].shape)\n",
    "# question[0]\n",
    "\n",
    "# # torch.Size([25])\n",
    "# # tensor([  45,  155,   91,   92,   16,   17, 6683,   24,  125, 3712,  533,  593,\n",
    "# #            0,    0,    0,    0,    0,    0,    0,    0,    0,    0,    0,    0,\n",
    "# #            0])\n"
   ]
  },
  {
   "cell_type": "code",
   "execution_count": 42,
   "metadata": {
    "id": "IT0STv0qMtry"
   },
   "outputs": [],
   "source": [
    "\n",
    "# question[0] != 0\n",
    "\n",
    "# # tensor([ True,  True,  True,  True,  True,  True,  True,  True,  True,  True,\n",
    "# #          True,  True, False, False, False, False, False, False, False, False,\n",
    "# #         False, False, False, False, False])\n"
   ]
  },
  {
   "cell_type": "code",
   "execution_count": 43,
   "metadata": {
    "colab": {
     "base_uri": "https://localhost:8080/"
    },
    "id": "rLtK6xcLMtry",
    "outputId": "d27a5ccd-da52-4c7e-853d-8a50aebb4cee"
   },
   "outputs": [
    {
     "data": {
      "text/plain": [
       "tensor([[1., 1., 1., 1., 1.],\n",
       "        [1., 1., 1., 1., 1.],\n",
       "        [1., 1., 1., 1., 1.],\n",
       "        [1., 1., 1., 1., 1.],\n",
       "        [1., 1., 1., 1., 1.]])"
      ]
     },
     "execution_count": 43,
     "metadata": {},
     "output_type": "execute_result"
    }
   ],
   "source": [
    "torch.ones(5, 5)"
   ]
  },
  {
   "cell_type": "code",
   "execution_count": 44,
   "metadata": {
    "colab": {
     "base_uri": "https://localhost:8080/"
    },
    "id": "TlNDTvAJMtry",
    "outputId": "99ae1d30-3ba4-4099-eb83-b04a422ee2a7"
   },
   "outputs": [
    {
     "data": {
      "text/plain": [
       "tensor([[1, 0, 0, 0, 0],\n",
       "        [1, 1, 0, 0, 0],\n",
       "        [1, 1, 1, 0, 0],\n",
       "        [1, 1, 1, 1, 0],\n",
       "        [1, 1, 1, 1, 1]], dtype=torch.uint8)"
      ]
     },
     "execution_count": 44,
     "metadata": {},
     "output_type": "execute_result"
    }
   ],
   "source": [
    "torch.tril(torch.ones(5, 5)).type(dtype=torch.uint8)"
   ]
  },
  {
   "cell_type": "code",
   "execution_count": 45,
   "metadata": {
    "id": "DTfyuIjE22yL"
   },
   "outputs": [],
   "source": [
    "def create_masks(question, reply_input, reply_target):\n",
    "\n",
    "    def subsequent_mask(size):\n",
    "        mask = torch.tril(torch.ones(size, size)).type(dtype=torch.uint8)    # (max_words, max_words)\n",
    "        return mask.unsqueeze(0)    # (1, max_words, max_words)\n",
    "\n",
    "\n",
    "    # question : I went home, mask = (batch_size, 1, 1, max_words)\n",
    "\n",
    "    # sentence_reply : <start>   I     went   home   <end>\n",
    "    # reply_input    : <start>   I     went   home,           mask = (batch_size, 1, max_words, max_words)\n",
    "    # reply_target   :   I      went   home   <end>,          mask = (batch_size, max_words)\n",
    "\n",
    "\n",
    "    question_mask = question != 0\n",
    "    question_mask = question_mask.to(device)\n",
    "    question_mask = question_mask.unsqueeze(1).unsqueeze(1)    # (batch_size, 1, 1, max_words)\n",
    "\n",
    "\n",
    "\n",
    "    reply_input_mask = reply_input != 0\n",
    "    reply_input_mask = reply_input_mask.unsqueeze(1)  # (batch_size, 1, max_words)\n",
    "\n",
    "    reply_input_mask = reply_input_mask & subsequent_mask(reply_input.size(-1)).type_as(reply_input_mask.data)\n",
    "    # (batch_size, 1, max_words) & (1, max_words, max_words) --> (batch_size, max_words, max_words)\n",
    "\n",
    "    reply_input_mask = reply_input_mask.unsqueeze(1)  # (batch_size, 1, max_words, max_words)\n",
    "\n",
    "\n",
    "\n",
    "    reply_target_mask = reply_target != 0    # (batch_size, max_words), used in loss function\n",
    "\n",
    "\n",
    "\n",
    "    # question_mask     : (batch_size, 1, 1, max_words)\n",
    "    # reply_input_mask  : (batch_size, 1, max_words, max_words)\n",
    "    # reply_target_mask : (batch_size, max_words)\n",
    "\n",
    "    return question_mask, reply_input_mask, reply_target_mask\n",
    "\n",
    "\n"
   ]
  },
  {
   "cell_type": "code",
   "execution_count": 46,
   "metadata": {
    "id": "TRM_Q0Y23Zng"
   },
   "outputs": [],
   "source": [
    "class Embeddings(nn.Module):\n",
    "    \"\"\"\n",
    "    Implements embeddings of the words and adds their positional encodings.\n",
    "    \"\"\"\n",
    "    def __init__(self, vocab_size, d_model, max_len=50, num_layers=6):\n",
    "        super(Embeddings, self).__init__()\n",
    "\n",
    "        self.d_model = d_model\n",
    "\n",
    "        self.embed = nn.Embedding(vocab_size, d_model)\n",
    "\n",
    "        self.pe = self.create_positinal_encoding(max_len, self.d_model)     # (1, max_len, d_model)\n",
    "        self.te = self.create_positinal_encoding(num_layers, self.d_model)  # (1, num_layers, d_model)\n",
    "\n",
    "        self.dropout = nn.Dropout(0.1)\n",
    "\n",
    "\n",
    "\n",
    "    def create_positinal_encoding(self, max_len, d_model):\n",
    "        pe = torch.zeros(max_len, d_model).to(device)\n",
    "        for pos in range(max_len):   # for each position of the word\n",
    "            for i in range(0, d_model, 2):   # for each dimension of the each position\n",
    "                pe[pos, i]     = math.sin(pos / (10000 ** ((2 * i)/d_model)))\n",
    "                pe[pos, i + 1] = math.cos(pos / (10000 ** ((2 * (i + 1))/d_model)))\n",
    "\n",
    "        pe = pe.unsqueeze(0)   # include the batch size, (1, max_len, d_model)\n",
    "\n",
    "        return pe\n",
    "\n",
    "\n",
    "\n",
    "\n",
    "    def forward(self, embedding, layer_idx):\n",
    "\n",
    "        if layer_idx == 0:\n",
    "            embedding = self.embed(embedding) * math.sqrt(self.d_model) # run in first time step only\n",
    "                                                                        # multiply by * math.sqrt(self.d_model) to give\n",
    "                                                                        # more meaning to words than positinal encodings\n",
    "                                                                        # (batch_size, max_words, d_model)\n",
    "\n",
    "        # max_words = embedding.size(1)\n",
    "        embedding += self.pe[:, :embedding.size(1)]   # trim as max_len=50 in __init__ or passed arg\n",
    "                                                      # pe will automatically be expanded with the same batch size as encoded_words\n",
    "                                                      # (batch_size, max_words, d_model) + (1, max_words, d_model)\n",
    "\n",
    "\n",
    "\n",
    "        # embedding: (batch_size, max_len, d_model)\n",
    "\n",
    "        # te:        (1, max_len, d_model) --> (batch_size, d_model)\n",
    "        #             --> (batch_size, 1, d_model) --> (batch_size, max_len, d_model)\n",
    "\n",
    "        embedding += self.te[:, layer_idx, :].unsqueeze(1).repeat(1, embedding.size(1), 1)\n",
    "\n",
    "\n",
    "\n",
    "        embedding = self.dropout(embedding)\n",
    "\n",
    "\n",
    "        return embedding\n",
    "\n",
    "\n"
   ]
  },
  {
   "cell_type": "code",
   "execution_count": 47,
   "metadata": {
    "colab": {
     "base_uri": "https://localhost:8080/"
    },
    "id": "_Zov_FqdMtr0",
    "outputId": "216499a0-3cfb-4664-f1e9-a76bb5c177b9"
   },
   "outputs": [
    {
     "data": {
      "text/plain": [
       "tensor([[1.1888, 1.0553],\n",
       "        [2.0154, 1.3902]])"
      ]
     },
     "execution_count": 47,
     "metadata": {},
     "output_type": "execute_result"
    }
   ],
   "source": [
    "a = torch.randn((2, 2))\n",
    "a"
   ]
  },
  {
   "cell_type": "code",
   "execution_count": 48,
   "metadata": {
    "colab": {
     "base_uri": "https://localhost:8080/"
    },
    "id": "W8cfjm-jMtr1",
    "outputId": "d15e0a12-6ed4-4c29-c512-97ca8d007379"
   },
   "outputs": [
    {
     "data": {
      "text/plain": [
       "tensor([[1, 0],\n",
       "        [0, 1]])"
      ]
     },
     "execution_count": 48,
     "metadata": {},
     "output_type": "execute_result"
    }
   ],
   "source": [
    "m = torch.tensor([[1, 0], [0, 1]])\n",
    "m"
   ]
  },
  {
   "cell_type": "code",
   "execution_count": 49,
   "metadata": {
    "colab": {
     "base_uri": "https://localhost:8080/"
    },
    "id": "TBKBT-QEMtr2",
    "outputId": "02188c76-ec12-44a5-cd75-718e594a5428"
   },
   "outputs": [
    {
     "data": {
      "text/plain": [
       "tensor([[1.1888, 0.0000],\n",
       "        [0.0000, 1.3902]])"
      ]
     },
     "execution_count": 49,
     "metadata": {},
     "output_type": "execute_result"
    }
   ],
   "source": [
    "a.masked_fill(m == 0, 0)"
   ]
  },
  {
   "cell_type": "code",
   "execution_count": 50,
   "metadata": {
    "id": "R6HkLslc22y5"
   },
   "outputs": [],
   "source": [
    "class MultiHeadAttention(nn.Module):\n",
    "\n",
    "    def __init__(self, heads, d_model):\n",
    "\n",
    "        super(MultiHeadAttention, self).__init__()\n",
    "\n",
    "        assert (d_model % heads) == 0\n",
    "\n",
    "        self.d_k = d_model // heads\n",
    "        self.heads = heads\n",
    "\n",
    "        self.query = nn.Linear(d_model, d_model)\n",
    "        self.key   = nn.Linear(d_model, d_model)\n",
    "        self.value = nn.Linear(d_model, d_model)\n",
    "\n",
    "        self.concat = nn.Linear(d_model, d_model)\n",
    "\n",
    "        self.dropout = nn.Dropout(0.1)\n",
    "\n",
    "\n",
    "\n",
    "\n",
    "    def forward(self, query, key, value, mask):\n",
    "        \"\"\"\n",
    "        query, key, value of shape: (batch_size, max_len, d_model) || (batch_size, max_len, 512)\n",
    "        mask of shape: (batch_size, 1, 1, max_words)\n",
    "                       (batch_size, 1, max_words, max_words)\n",
    "        \"\"\"\n",
    "        # (batch_size, max_len, d_model)\n",
    "        query = self.query(query)\n",
    "        key   = self.key(key)\n",
    "        value = self.value(value)\n",
    "\n",
    "        # (batch_size, max_len, d_model) --> (batch_size, max_len, h, d_k) --> (batch_size, h, max_len, d_k)\n",
    "        #                                                          8   64                   8            64\n",
    "        query = query.view(query.size(0), -1, self.heads, self.d_k).permute(0, 2, 1, 3)\n",
    "        key   = key.view(key.size(0), -1, self.heads, self.d_k).permute(0, 2, 1, 3)\n",
    "        value = value.view(value.size(0), -1, self.heads, self.d_k).permute(0, 2, 1, 3)\n",
    "\n",
    "\n",
    "        # (batch_size, h, max_len, d_k) dot (batch_size, h, max_len, d_k).transpose()\n",
    "        # (batch_size, h, max_len, d_k) matmul (batch_size, h, d_k, max_len) --> (batch_size, h, max_len, max_len)\n",
    "        scores = torch.matmul(query, key.permute(0, 1, 3, 2)) / math.sqrt(query.size(-1)) # query.size(-1) = d_k\n",
    "\n",
    "        scores = scores.masked_fill(mask == 0, -1e9)    # (batch_size, h, max_len, max_len)\n",
    "                                                        # '-1e9' as a tiny value that softmax ignore them,\n",
    "                                                        # not doing the attention operation on 'padded' values\n",
    "\n",
    "        weights = F.softmax(scores, dim=-1)    # (batch_size, h, max_len, max_len)\n",
    "        weights = self.dropout(weights)\n",
    "\n",
    "\n",
    "        # (batch_size, h, max_len, max_len) matmul (batch_size, h, max_len, d_k) --> (batch_size, h, max_len, d_k)\n",
    "        context = torch.matmul(weights, value)\n",
    "\n",
    "        # (batch_size, h, max_len, d_k) --> (batch_size, max_len, h, d_k) --> (batch_size, max_len, h * d_k)\n",
    "        context = context.permute(0, 2, 1, 3).contiguous().view(context.size(0), -1, self.heads * self.d_k)\n",
    "\n",
    "        # (batch_size, max_len, h * d_k)\n",
    "        interacted = self.concat(context)\n",
    "\n",
    "\n",
    "\n",
    "        return interacted\n",
    "\n",
    "\n"
   ]
  },
  {
   "cell_type": "code",
   "execution_count": 51,
   "metadata": {
    "id": "EmrJcp7l22y7"
   },
   "outputs": [],
   "source": [
    "class FeedForward(nn.Module):\n",
    "\n",
    "    def __init__(self, d_model, middle_dim=2048):    # middle_dim = d_model * 4\n",
    "        super(FeedForward, self).__init__()\n",
    "\n",
    "        self.fc1 = nn.Linear(d_model, middle_dim)\n",
    "        self.fc2 = nn.Linear(middle_dim, d_model)\n",
    "        self.dropout = nn.Dropout(0.1)\n",
    "\n",
    "\n",
    "    def forward(self, x):\n",
    "        out = F.relu(self.fc1(x))\n",
    "        out = self.fc2(self.dropout(out))\n",
    "        return out\n",
    "\n"
   ]
  },
  {
   "cell_type": "code",
   "execution_count": 52,
   "metadata": {
    "id": "p64usJgL22y9"
   },
   "outputs": [],
   "source": [
    "class EncoderLayer(nn.Module):\n",
    "\n",
    "    def __init__(self, d_model, heads):\n",
    "        super(EncoderLayer, self).__init__()\n",
    "\n",
    "        self.self_multihead = MultiHeadAttention(heads, d_model)\n",
    "\n",
    "        self.feed_forward = FeedForward(d_model, middle_dim=2048)\n",
    "\n",
    "        self.layernorm = nn.LayerNorm(d_model)    # d_model = 512\n",
    "        self.dropout = nn.Dropout(0.1)\n",
    "\n",
    "\n",
    "\n",
    "\n",
    "    def forward(self, embeddings, mask):\n",
    "                                                    #   query       key         value\n",
    "        interacted = self.dropout(self.self_multihead(embeddings, embeddings, embeddings, mask))\n",
    "        interacted = self.layernorm(interacted + embeddings) # add Residual Learning & Norm\n",
    "\n",
    "        feed_forward_out = self.dropout(self.feed_forward(interacted))\n",
    "        encoded = self.layernorm(feed_forward_out + interacted)\n",
    "\n",
    "\n",
    "        return encoded\n",
    "\n",
    "\n"
   ]
  },
  {
   "cell_type": "code",
   "execution_count": 53,
   "metadata": {
    "id": "x_6v93vF22y_"
   },
   "outputs": [],
   "source": [
    "class DecoderLayer(nn.Module):\n",
    "\n",
    "    def __init__(self, d_model, heads):\n",
    "        super(DecoderLayer, self).__init__()\n",
    "\n",
    "        self.self_multihead = MultiHeadAttention(heads, d_model)    # Masked Multi-Head Attention, attend to its own inputs\n",
    "        self.src_multihead  = MultiHeadAttention(heads, d_model)    # Multi-Head Attention, attend to Encoder outputs\n",
    "\n",
    "        self.feed_forward = FeedForward(d_model)\n",
    "\n",
    "        self.layernorm = nn.LayerNorm(d_model)\n",
    "\n",
    "        self.dropout = nn.Dropout(0.1)\n",
    "\n",
    "\n",
    "\n",
    "\n",
    "    def forward(self, embeddings, target_mask, encoded, src_mask):\n",
    "\n",
    "        # (decoder_input_query, decoder_input_key, decoder_input_value, decoder_input_mask)\n",
    "        query = self.dropout(self.self_multihead(embeddings, embeddings, embeddings, target_mask))\n",
    "        query = self.layernorm(query + embeddings) # add Residual Learning & Norm\n",
    "\n",
    "        # (query -> self_attention from Decoder), (key and value -> encoded from Encoder)\n",
    "        # (decoder_input_query, encoder_output_key, encoder_output_value, decoder_src_mask)\n",
    "        interacted = self.dropout(self.src_multihead(query, encoded, encoded, src_mask))    # notice mask here, Encoder mask\n",
    "        # (query = query), (key and value = encoded)\n",
    "        interacted = self.layernorm(interacted + query)\n",
    "\n",
    "        feed_forward_out = self.dropout(self.feed_forward(interacted))\n",
    "        decoded = self.layernorm(feed_forward_out + interacted)\n",
    "\n",
    "\n",
    "        return decoded\n",
    "\n",
    "\n"
   ]
  },
  {
   "cell_type": "code",
   "execution_count": 54,
   "metadata": {
    "id": "M6rKihz-3Znx"
   },
   "outputs": [],
   "source": [
    "class Transformer(nn.Module):\n",
    "\n",
    "    def __init__(self, d_model, heads, num_layers, word_map, max_len=50):\n",
    "        super(Transformer, self).__init__()\n",
    "\n",
    "        self.d_model = d_model\n",
    "        self.num_layers = num_layers\n",
    "        self.vocab_size = len(word_map)\n",
    "\n",
    "        self.embed = Embeddings(self.vocab_size, d_model, max_len=max_len, num_layers=num_layers)\n",
    "        self.encoder = EncoderLayer(d_model, heads)\n",
    "        self.decoder = DecoderLayer(d_model, heads)\n",
    "\n",
    "        self.logit = nn.Linear(d_model, self.vocab_size)\n",
    "\n",
    "\n",
    "\n",
    "    def encode(self, src_embeddings, src_mask):\n",
    "        for i in range(self.num_layers):\n",
    "            src_embeddings = self.embed(src_embeddings, layer_idx=i)\n",
    "            src_embeddings = self.encoder(src_embeddings, src_mask)\n",
    "        return src_embeddings\n",
    "\n",
    "\n",
    "\n",
    "    def decode(self, tgt_embeddings, tgt_mask, src_embeddings, src_mask):\n",
    "        for i in range(self.num_layers):\n",
    "            tgt_embeddings = self.embed(tgt_embeddings, layer_idx=i)\n",
    "            tgt_embeddings = self.decoder(tgt_embeddings, tgt_mask, src_embeddings, src_mask)\n",
    "        return tgt_embeddings\n",
    "\n",
    "\n",
    "\n",
    "\n",
    "    def forward(self, src_words, src_mask, target_words, target_mask):\n",
    "        encoded = self.encode(src_words, src_mask)\n",
    "        decoded = self.decode(target_words, target_mask, encoded, src_mask)\n",
    "        out = F.log_softmax(self.logit(decoded), dim=2)    # (batch_size, max_words, vocab_size)\n",
    "\n",
    "        return out    # (batch_size, max_words, vocab_size)\n",
    "\n",
    "\n"
   ]
  },
  {
   "cell_type": "code",
   "execution_count": 55,
   "metadata": {
    "id": "yiUlFyoe22zK"
   },
   "outputs": [],
   "source": [
    "class AdamWarmup:\n",
    "\n",
    "    def __init__(self, model_size, warmup_steps, optimizer):\n",
    "\n",
    "        self.model_size = model_size\n",
    "        self.warmup_steps = warmup_steps\n",
    "        self.optimizer = optimizer\n",
    "        self.current_step = 0\n",
    "\n",
    "        # # self.lr = 0\n",
    "        # self.lr = optimizer.param_groups[-1]['lr']\n",
    "        # # self.lr = optimizer.state_dict()['param_groups'][0]['lr']\n",
    "        self.lr = None\n",
    "\n",
    "        # self.current_epoch = 0\n",
    "\n",
    "\n",
    "\n",
    "\n",
    "    def get_lr(self):\n",
    "        return self.model_size ** (-0.5) * min(self.current_step ** (-0.5), self.current_step * self.warmup_steps ** (-1.5))\n",
    "\n",
    "\n",
    "\n",
    "\n",
    "    # def step(self, epoch):\n",
    "\n",
    "    #     if epoch != self.current_epoch:\n",
    "    #         self.current_epoch = epoch\n",
    "    #         self.current_step  = 0\n",
    "\n",
    "    #     # Increment the number of steps each time we call the step function\n",
    "    #     self.current_step += 1\n",
    "\n",
    "    #     lr = self.get_lr()\n",
    "    #     for param_group in self.optimizer.param_groups:\n",
    "    #         param_group['lr'] = lr\n",
    "\n",
    "    #     # update the learning rate\n",
    "    #     self.lr = lr\n",
    "\n",
    "    #     self.optimizer.step()\n",
    "\n",
    "\n",
    "    def step(self, epoch):\n",
    "\n",
    "        # Increment the number of steps each time we call the step function\n",
    "        self.current_step += 1\n",
    "\n",
    "        lr = self.get_lr()\n",
    "        for param_group in self.optimizer.param_groups:\n",
    "            param_group['lr'] = lr\n",
    "\n",
    "        # update the learning rate\n",
    "        self.lr = lr\n",
    "\n",
    "        self.optimizer.step()\n",
    "\n",
    "\n"
   ]
  },
  {
   "cell_type": "code",
   "execution_count": 56,
   "metadata": {
    "id": "boIv8qtNMtr4"
   },
   "outputs": [],
   "source": [
    "class LossWithLS(nn.Module):\n",
    "\n",
    "    def __init__(self, size, smooth):\n",
    "        super(LossWithLS, self).__init__()\n",
    "\n",
    "        self.criterion = nn.KLDivLoss(size_average=False, reduce=False)\n",
    "        # self.criterion = nn.KLDivLoss(reduction='none')\n",
    "\n",
    "        self.confidence = 1.0 - smooth\n",
    "        self.smooth = smooth\n",
    "        self.size = size    # size of predection, which is vocab_size\n",
    "\n",
    "\n",
    "\n",
    "    def forward(self, prediction, target, mask):\n",
    "        \"\"\"\n",
    "        prediction of shape: (batch_size, max_words, vocab_size)\n",
    "        target and mask of shape: (batch_size, max_words)\n",
    "        \"\"\"\n",
    "\n",
    "        # batch_size = prediction.size(0)\n",
    "        # max_words  = prediction.size(1)\n",
    "        # vocab_size = prediction.size(2)\n",
    "\n",
    "        # prediction = prediction.view(-1, prediction.size(-1))   # (batch_size * max_words, vocab_size)\n",
    "        # target = target.contiguous().view(-1)   # (batch_size * max_words)\n",
    "\n",
    "        # mask = mask.float()\n",
    "        # # mask = mask.view(-1)       # (batch_size * max_words)\n",
    "\n",
    "\n",
    "        labels = prediction.data.clone()    # (batch_size, max_words, vocab_size)\n",
    "        labels.fill_(self.smooth / (self.size - 1))\n",
    "\n",
    "        labels.scatter_(2, target.data.unsqueeze(2), self.confidence)\n",
    "        # labels[:, self.padding_idx] = 0\n",
    "\n",
    "        # target.data.unsqueeze(2), (batch_size, max_words) --> (batch_size, max_words, 1)\n",
    "        # labels,                                               (batch_size, max_words, vocab_size)\n",
    "\n",
    "\n",
    "        loss = self.criterion(prediction, labels)    # prediction == labels == (batch_size, max_words, vocab_size)\n",
    "\n",
    "\n",
    "\n",
    "\n",
    "        # # First way\n",
    "        # loss = (loss.sum(1) * mask).sum() / mask.sum()  # calculate the mean of the loss = masked_sum / n\n",
    "        #                                                 # loss.sum(1) --> (batch_size * max_words) 1d tensor\n",
    "        #                                                 # '/ mask.sum()' sum over all the elements in the mask\n",
    "\n",
    "\n",
    "\n",
    "        # Second way\n",
    "        # compute entropy (KL Divergence) loss for smoothed labels by summing them as in the equation\n",
    "        # loss = loss.view(batch_size, max_words, vocab_size).sum(2)\n",
    "        loss = loss.sum(2)\n",
    "        # (batch_size, max_words, vocab_size) --> (batch_size, max_words)\n",
    "\n",
    "        # mask = mask.view(batch_size, max_words)       # (batch_size * max_words) --> (batch_size, max_words)\n",
    "\n",
    "        # loss.masked_fill_(mask, 0)    # (batch_size, max_words)\n",
    "        # loss.masked_fill_(~mask, 0)\n",
    "        loss.masked_fill_(mask == 0, 0)\n",
    "\n",
    "        # reduction method: 'mean'\n",
    "        # # loss = loss.mean(1).mean()    # (batch_size, max_words) --> (batch_size) --> scalar XXXXXXX\n",
    "        # loss = loss.mean()\n",
    "\n",
    "\n",
    "        n_words = torch.sum(mask != 0, dim=1)     # (batch_size, max_words).sum(dim=1) --> (batch_size)\n",
    "\n",
    "        loss = loss.sum(1).div(n_words)           # (batch_size, max_words).sum(1) --> (batch_size)\n",
    "                                                  # (batch_size).div(batch_size) --> (batch_size)\n",
    "                                                  # mean row by row\n",
    "\n",
    "        loss = loss.mean()    # (batch_size) --> scalar\n",
    "\n",
    "\n",
    "\n",
    "        # # reduction method: 'sum'\n",
    "        # loss = loss.sum(1).mean()\n",
    "        # loss = loss.sum()\n",
    "\n",
    "\n",
    "\n",
    "\n",
    "\n",
    "        return loss\n",
    "\n",
    "\n"
   ]
  },
  {
   "cell_type": "code",
   "execution_count": 57,
   "metadata": {
    "colab": {
     "base_uri": "https://localhost:8080/"
    },
    "id": "BrYATdGk22zN",
    "outputId": "71349e9a-0bb5-44fb-b23a-baae7f3513bc"
   },
   "outputs": [
    {
     "name": "stderr",
     "output_type": "stream",
     "text": [
      "/usr/local/lib/python3.10/dist-packages/torch/nn/_reduction.py:42: UserWarning: size_average and reduce args will be deprecated, please use reduction='none' instead.\n",
      "  warnings.warn(warning.format(ret))\n"
     ]
    }
   ],
   "source": [
    "\n",
    "d_model = 512\n",
    "\n",
    "heads = 8\n",
    "\n",
    "\n",
    "# num_layers = 3\n",
    "num_layers = 6\n",
    "\n",
    "\n",
    "# epochs = 10\n",
    "# epochs = 25\n",
    "# epochs = 1\n",
    "# epochs = 2\n",
    "epochs = 5\n",
    "\n",
    "\n",
    "\n",
    "with open('WORDMAP_corpus.json', 'r') as w:\n",
    "    word_map = json.load(w)\n",
    "\n",
    "\n",
    "\n",
    "transformer = Transformer(d_model=d_model, heads=heads, num_layers=num_layers, word_map=word_map).to(device)\n",
    "\n",
    "adam_optimizer = torch.optim.Adam(transformer.parameters(), lr=0, weight_decay=0.01, betas=(0.9, 0.98), eps=1e-9)\n",
    "# transformer_optimizer = AdamWarmup(model_size=d_model, warmup_steps=4000, optimizer=adam_optimizer)\n",
    "# transformer_optimizer = AdamWarmup(model_size=d_model, warmup_steps=3000, optimizer=adam_optimizer)\n",
    "# transformer_optimizer = AdamWarmup(model_size=d_model, warmup_steps=3500, optimizer=adam_optimizer)\n",
    "# transformer_optimizer = AdamWarmup(model_size=d_model, warmup_steps=2000, optimizer=adam_optimizer)\n",
    "# transformer_optimizer = AdamWarmup(model_size=d_model, warmup_steps=1300, optimizer=adam_optimizer)\n",
    "# transformer_optimizer = AdamWarmup(model_size=d_model, warmup_steps=15000, optimizer=adam_optimizer)  # 55404\n",
    "# transformer_optimizer = AdamWarmup(model_size=d_model, warmup_steps=650, optimizer=adam_optimizer)  # 3458\n",
    "\n",
    "# warmup_steps = int((len(train_loader) * epochs) * 0.2)\n",
    "# warmup_steps = int((len(train_loader) * epochs) * 0.3)\n",
    "# warmup_steps = int((len(train_loader) * epochs) * 0.4)\n",
    "warmup_steps = int((len(train_loader) * epochs) * 0.33)\n",
    "transformer_optimizer = AdamWarmup(model_size=d_model, warmup_steps=warmup_steps, optimizer=adam_optimizer)\n",
    "\n",
    "\n",
    "\n",
    "# optimizer = torch.optim.Adam(transformer.parameters(), lr=3e-4)\n",
    "# scheduler = torch.optim.lr_scheduler.ReduceLROnPlateau(optimizer, factor=0.1, patience=10, verbose=True)\n",
    "\n",
    "\n",
    "\n",
    "\n",
    "# optimizer = torch.optim.AdamW(transformer.parameters(), lr=5e-5, weight_decay=0.01, betas=(0.9, 0.98), eps=1e-9)\n",
    "\n",
    "# from transformers.optimization import get_linear_schedule_with_warmup\n",
    "\n",
    "# # scheduler = get_linear_schedule_with_warmup(optimizer=optimizer, num_warmup_steps=500, num_training_steps=len(train_loader) * epochs)\n",
    "# # scheduler = get_linear_schedule_with_warmup(optimizer=optimizer, num_warmup_steps=1500, num_training_steps=len(train_loader) * epochs)\n",
    "# scheduler = get_linear_schedule_with_warmup(optimizer=optimizer, num_warmup_steps=4000, num_training_steps=len(train_loader) * epochs)\n",
    "\n",
    "\n",
    "\n",
    "\n",
    "\n",
    "\n",
    "# criterion = LossWithLS(len(word_map), 0.3)\n",
    "criterion = LossWithLS(len(word_map), 0.1)\n",
    "\n",
    "\n",
    "# criterion = nn.CrossEntropyLoss(ignore_index=0, label_smoothing=0.1).to(device)\n",
    "\n",
    "\n",
    "\n"
   ]
  },
  {
   "cell_type": "code",
   "execution_count": 58,
   "metadata": {
    "id": "Z0whWohN22zN"
   },
   "outputs": [],
   "source": [
    "def train(train_loader, transformer, criterion, epoch):\n",
    "\n",
    "    transformer.train()\n",
    "\n",
    "\n",
    "    # sum_loss = 0\n",
    "    # count = 0\n",
    "\n",
    "\n",
    "    LOSS = []\n",
    "    LR   = []\n",
    "\n",
    "    for i, (question, reply) in enumerate(train_loader):\n",
    "\n",
    "        samples = question.size(0)    # batch_size\n",
    "\n",
    "        # Move to device\n",
    "        question = question.to(device)\n",
    "        reply = reply.to(device)\n",
    "\n",
    "        # question    : <start>  I     went   home  <end>\n",
    "        # reply_input : <start>  I     went   home\n",
    "        # reply_target:   I     went   home   <end>\n",
    "\n",
    "        # Prepare Target Data\n",
    "        reply_input = reply[:, :-1] # start .. before <end> token\n",
    "        reply_target = reply[:, 1:] # after <start> token .. up to <end> token\n",
    "\n",
    "        # Create mask and add dimensions\n",
    "        question_mask, reply_input_mask, reply_target_mask = create_masks(question, reply_input, reply_target)\n",
    "\n",
    "        # Get the transformer outputs\n",
    "        out = transformer(question, question_mask, reply_input, reply_input_mask)\n",
    "\n",
    "        # d(out.shape)\n",
    "        # d(reply_target.shape)\n",
    "\n",
    "        # Compute the loss\n",
    "        loss = criterion(out, reply_target, reply_target_mask)\n",
    "        # loss = criterion(out.contiguous().view(-1, out.size(-1)), reply_target.contiguous().view(-1))\n",
    "\n",
    "        # Backprop\n",
    "        transformer_optimizer.optimizer.zero_grad()\n",
    "        # optimizer.zero_grad()\n",
    "\n",
    "        loss.backward()\n",
    "\n",
    "        transformer_optimizer.step(epoch)\n",
    "        # optimizer.step()\n",
    "        # scheduler.step()\n",
    "\n",
    "\n",
    "        # # sum_loss += loss.item() * samples\n",
    "        # sum_loss += loss.item()\n",
    "\n",
    "        # count += samples    # at the last batch for an epoch, the count = len(train_loader) * batch_size\n",
    "\n",
    "\n",
    "        current_lr = transformer_optimizer.optimizer.state_dict()['param_groups'][0]['lr']\n",
    "        # current_lr = optimizer.state_dict()['param_groups'][0]['lr']\n",
    "\n",
    "        if i % 100 == 0:\n",
    "            # print(f\"Epoch [{epoch}][{i}/{len(train_loader)}]\\tLoss: {sum_loss/count:.3f}\")\n",
    "            print(f\"Epoch [{epoch}][{i}/{len(train_loader)}]\\tLoss: {loss.item():.3f}\\tLR: {current_lr:f}\")\n",
    "\n",
    "\n",
    "        LOSS.append(loss.item())\n",
    "        LR.append(current_lr)\n",
    "\n",
    "\n",
    "\n",
    "    # scheduler.step(torch.mean(torch.tensor(LOSS).float()))\n",
    "\n",
    "\n",
    "\n",
    "\n",
    "    return (LOSS, LR)\n",
    "\n",
    "\n"
   ]
  },
  {
   "cell_type": "code",
   "execution_count": 59,
   "metadata": {
    "id": "Gulg5aaX22zO"
   },
   "outputs": [],
   "source": [
    "def evaluate(transformer, question, question_mask, max_len, word_map):\n",
    "    \"\"\"\n",
    "    Performs Greedy (search) Decoding with a batch_size of 1\n",
    "\n",
    "\n",
    "    question : <start>  I  went  home  <end>\n",
    "\n",
    "    reply    : [<start>], new_mask\n",
    "    reply    : [<start>, prediction1], new_mask\n",
    "    reply    : [<start>, prediction1, prediction2], new_mask\n",
    "    reply    : [<start>, prediction1, prediction2, prediction3]\n",
    "\n",
    "    out      : [prediction1, prediction2, prediction3]\n",
    "\n",
    "    \"\"\"\n",
    "\n",
    "\n",
    "    transformer.eval()\n",
    "\n",
    "\n",
    "    encoded = transformer.encode(question, question_mask)\n",
    "\n",
    "    start_token = word_map['<start>']\n",
    "    words       = torch.LongTensor([[start_token]]).to(device)    # (1, 1)\n",
    "\n",
    "\n",
    "\n",
    "    for step in range(max_len - 1):\n",
    "\n",
    "        size = words.size(1)    # (max_len)\n",
    "\n",
    "        target_mask = torch.tril(torch.ones(size, size)).type(dtype=torch.uint8)    # (max_len, max_len)\n",
    "        target_mask = target_mask.to(device).unsqueeze(0).unsqueeze(0)              # (1, 1, max_len, max_len)\n",
    "\n",
    "        decoded = transformer.decode(words, target_mask, encoded, question_mask)\n",
    "        # decoded is of (batch_size, max_words, vocab_size) --> (1, max_words, vocab_size)\n",
    "\n",
    "        predictions = transformer.logit(decoded[:, -1])\n",
    "        # (batch_size, max_words, vocab_size)[:, -1] --> (batch_size, vocab_size)\n",
    "        # decoded[:, -1] --> prediction of last word (1, vocab_size)\n",
    "\n",
    "        next_word = torch.argmax(predictions, dim=1).item()    # (1, vocab_size) --> (1, 1), dim=1 --> dim of vocab\n",
    "                                                               # --> (1) --> scalar\n",
    "\n",
    "        if next_word == word_map['<end>']:\n",
    "            break\n",
    "\n",
    "        words = torch.cat([words, torch.LongTensor([[next_word]]).to(device)], dim=1)   # (1, step+2)\n",
    "\n",
    "\n",
    "    # Construct Sentence\n",
    "    if words.dim() == 2:\n",
    "        words = words.squeeze(0).tolist()    # 1d tensor --> list\n",
    "\n",
    "\n",
    "\n",
    "    sen_idx = [w for w in words if w not in {word_map['<start>']}]    # current   : <start>\n",
    "                                                                      # generated : I went home <end>\n",
    "\n",
    "    word_map_idx = {idx: k for k, idx in word_map.items()}\n",
    "\n",
    "    sentence = ' '.join([word_map_idx[sen_idx[k]] for k in range(len(sen_idx))])\n",
    "\n",
    "\n",
    "\n",
    "    return sentence\n",
    "\n",
    "\n"
   ]
  },
  {
   "cell_type": "code",
   "execution_count": 60,
   "metadata": {
    "id": "YjQ_-eTPMtr6"
   },
   "outputs": [],
   "source": [
    "\n",
    "def plot_loss_lr(LOSS, LR):\n",
    "\n",
    "    fig, axs = plt.subplots(1, 2, figsize=(10, 5))\n",
    "\n",
    "    axs[0].plot(LOSS, 'bo-', markerfacecolor='w', markersize=10, label='Loss')\n",
    "    axs[0].set_title('Loss')\n",
    "\n",
    "    axs[1].plot(LR, 'yo-', markerfacecolor='w', markersize=10, label='lr')\n",
    "    # axs[1].yaxis.set_major_formatter(matplotlib.ticker.FormatStrFormatter('%0.0f'))\n",
    "    # axs[1].yaxis.set_major_formatter(matplotlib.ticker.FormatStrFormatter('%f'))\n",
    "    # axs[1].yaxis.set_major_formatter(matplotlib.ticker.FormatStrFormatter('%.5f'))\n",
    "    axs[1].yaxis.set_major_formatter(matplotlib.ticker.FormatStrFormatter('%.4f'))\n",
    "    axs[1].set_title('Learning rate')\n",
    "\n",
    "    fig.tight_layout()\n",
    "    plt.show();\n",
    "\n"
   ]
  },
  {
   "cell_type": "code",
   "execution_count": 61,
   "metadata": {
    "colab": {
     "base_uri": "https://localhost:8080/",
     "height": 1000
    },
    "id": "HKhNTlPK22zQ",
    "outputId": "7473353b-2c98-4de6-8a37-1f94c7bec856",
    "scrolled": true
   },
   "outputs": [
    {
     "name": "stdout",
     "output_type": "stream",
     "text": [
      "Epoch [0][0/3458]\tLoss: 8.675\tLR: 0.000000\n",
      "Epoch [0][100/3458]\tLoss: 7.315\tLR: 0.000010\n",
      "Epoch [0][200/3458]\tLoss: 6.632\tLR: 0.000021\n",
      "Epoch [0][300/3458]\tLoss: 5.894\tLR: 0.000031\n",
      "Epoch [0][400/3458]\tLoss: 5.601\tLR: 0.000041\n",
      "Epoch [0][500/3458]\tLoss: 5.620\tLR: 0.000051\n",
      "Epoch [0][600/3458]\tLoss: 5.283\tLR: 0.000062\n",
      "Epoch [0][700/3458]\tLoss: 5.243\tLR: 0.000072\n",
      "Epoch [0][800/3458]\tLoss: 5.098\tLR: 0.000082\n",
      "Epoch [0][900/3458]\tLoss: 5.114\tLR: 0.000092\n",
      "Epoch [0][1000/3458]\tLoss: 5.137\tLR: 0.000103\n",
      "Epoch [0][1100/3458]\tLoss: 5.151\tLR: 0.000113\n",
      "Epoch [0][1200/3458]\tLoss: 5.099\tLR: 0.000123\n",
      "Epoch [0][1300/3458]\tLoss: 5.081\tLR: 0.000133\n",
      "Epoch [0][1400/3458]\tLoss: 4.908\tLR: 0.000144\n",
      "Epoch [0][1500/3458]\tLoss: 5.024\tLR: 0.000154\n",
      "Epoch [0][1600/3458]\tLoss: 5.256\tLR: 0.000164\n",
      "Epoch [0][1700/3458]\tLoss: 5.058\tLR: 0.000174\n",
      "Epoch [0][1800/3458]\tLoss: 4.998\tLR: 0.000185\n",
      "Epoch [0][1900/3458]\tLoss: 5.137\tLR: 0.000195\n",
      "Epoch [0][2000/3458]\tLoss: 5.051\tLR: 0.000205\n",
      "Epoch [0][2100/3458]\tLoss: 4.968\tLR: 0.000215\n",
      "Epoch [0][2200/3458]\tLoss: 5.179\tLR: 0.000226\n",
      "Epoch [0][2300/3458]\tLoss: 5.075\tLR: 0.000236\n",
      "Epoch [0][2400/3458]\tLoss: 5.004\tLR: 0.000246\n",
      "Epoch [0][2500/3458]\tLoss: 4.907\tLR: 0.000257\n",
      "Epoch [0][2600/3458]\tLoss: 4.983\tLR: 0.000267\n",
      "Epoch [0][2700/3458]\tLoss: 4.872\tLR: 0.000277\n",
      "Epoch [0][2800/3458]\tLoss: 5.010\tLR: 0.000287\n",
      "Epoch [0][2900/3458]\tLoss: 5.043\tLR: 0.000298\n",
      "Epoch [0][3000/3458]\tLoss: 4.940\tLR: 0.000308\n",
      "Epoch [0][3100/3458]\tLoss: 5.017\tLR: 0.000318\n",
      "Epoch [0][3200/3458]\tLoss: 4.974\tLR: 0.000328\n",
      "Epoch [0][3300/3458]\tLoss: 5.018\tLR: 0.000339\n",
      "Epoch [0][3400/3458]\tLoss: 4.934\tLR: 0.000349\n",
      "Epoch [1][0/3458]\tLoss: 4.898\tLR: 0.000355\n",
      "Epoch [1][100/3458]\tLoss: 5.204\tLR: 0.000365\n",
      "Epoch [1][200/3458]\tLoss: 5.119\tLR: 0.000375\n",
      "Epoch [1][300/3458]\tLoss: 4.819\tLR: 0.000386\n",
      "Epoch [1][400/3458]\tLoss: 5.103\tLR: 0.000396\n",
      "Epoch [1][500/3458]\tLoss: 5.136\tLR: 0.000406\n",
      "Epoch [1][600/3458]\tLoss: 5.157\tLR: 0.000416\n",
      "Epoch [1][700/3458]\tLoss: 4.841\tLR: 0.000427\n",
      "Epoch [1][800/3458]\tLoss: 5.117\tLR: 0.000437\n",
      "Epoch [1][900/3458]\tLoss: 4.926\tLR: 0.000447\n",
      "Epoch [1][1000/3458]\tLoss: 4.849\tLR: 0.000457\n",
      "Epoch [1][1100/3458]\tLoss: 4.958\tLR: 0.000468\n",
      "Epoch [1][1200/3458]\tLoss: 5.010\tLR: 0.000478\n",
      "Epoch [1][1300/3458]\tLoss: 4.810\tLR: 0.000488\n",
      "Epoch [1][1400/3458]\tLoss: 4.872\tLR: 0.000498\n",
      "Epoch [1][1500/3458]\tLoss: 4.756\tLR: 0.000509\n",
      "Epoch [1][1600/3458]\tLoss: 4.957\tLR: 0.000519\n",
      "Epoch [1][1700/3458]\tLoss: 4.893\tLR: 0.000529\n",
      "Epoch [1][1800/3458]\tLoss: 4.785\tLR: 0.000539\n",
      "Epoch [1][1900/3458]\tLoss: 5.133\tLR: 0.000550\n",
      "Epoch [1][2000/3458]\tLoss: 4.961\tLR: 0.000560\n",
      "Epoch [1][2100/3458]\tLoss: 4.971\tLR: 0.000570\n",
      "Epoch [1][2200/3458]\tLoss: 4.668\tLR: 0.000580\n",
      "Epoch [1][2300/3458]\tLoss: 4.880\tLR: 0.000582\n",
      "Epoch [1][2400/3458]\tLoss: 5.032\tLR: 0.000577\n",
      "Epoch [1][2500/3458]\tLoss: 4.799\tLR: 0.000573\n",
      "Epoch [1][2600/3458]\tLoss: 4.820\tLR: 0.000568\n",
      "Epoch [1][2700/3458]\tLoss: 4.734\tLR: 0.000563\n",
      "Epoch [1][2800/3458]\tLoss: 4.705\tLR: 0.000559\n",
      "Epoch [1][2900/3458]\tLoss: 4.740\tLR: 0.000554\n",
      "Epoch [1][3000/3458]\tLoss: 4.783\tLR: 0.000550\n",
      "Epoch [1][3100/3458]\tLoss: 4.739\tLR: 0.000546\n",
      "Epoch [1][3200/3458]\tLoss: 4.456\tLR: 0.000542\n",
      "Epoch [1][3300/3458]\tLoss: 4.754\tLR: 0.000538\n",
      "Epoch [1][3400/3458]\tLoss: 4.704\tLR: 0.000534\n",
      "Epoch [2][0/3458]\tLoss: 4.850\tLR: 0.000531\n",
      "Epoch [2][100/3458]\tLoss: 4.787\tLR: 0.000528\n",
      "Epoch [2][200/3458]\tLoss: 4.846\tLR: 0.000524\n",
      "Epoch [2][300/3458]\tLoss: 4.705\tLR: 0.000520\n",
      "Epoch [2][400/3458]\tLoss: 4.636\tLR: 0.000517\n",
      "Epoch [2][500/3458]\tLoss: 4.805\tLR: 0.000513\n",
      "Epoch [2][600/3458]\tLoss: 4.643\tLR: 0.000510\n",
      "Epoch [2][700/3458]\tLoss: 4.723\tLR: 0.000506\n",
      "Epoch [2][800/3458]\tLoss: 4.725\tLR: 0.000503\n",
      "Epoch [2][900/3458]\tLoss: 4.644\tLR: 0.000500\n",
      "Epoch [2][1000/3458]\tLoss: 4.720\tLR: 0.000497\n",
      "Epoch [2][1100/3458]\tLoss: 4.678\tLR: 0.000494\n",
      "Epoch [2][1200/3458]\tLoss: 4.573\tLR: 0.000491\n",
      "Epoch [2][1300/3458]\tLoss: 4.728\tLR: 0.000488\n",
      "Epoch [2][1400/3458]\tLoss: 4.784\tLR: 0.000485\n",
      "Epoch [2][1500/3458]\tLoss: 4.831\tLR: 0.000482\n",
      "Epoch [2][1600/3458]\tLoss: 4.684\tLR: 0.000479\n",
      "Epoch [2][1700/3458]\tLoss: 4.719\tLR: 0.000476\n",
      "Epoch [2][1800/3458]\tLoss: 4.675\tLR: 0.000473\n",
      "Epoch [2][1900/3458]\tLoss: 4.569\tLR: 0.000471\n",
      "Epoch [2][2000/3458]\tLoss: 4.616\tLR: 0.000468\n",
      "Epoch [2][2100/3458]\tLoss: 4.744\tLR: 0.000465\n",
      "Epoch [2][2200/3458]\tLoss: 4.843\tLR: 0.000463\n",
      "Epoch [2][2300/3458]\tLoss: 4.486\tLR: 0.000460\n",
      "Epoch [2][2400/3458]\tLoss: 4.775\tLR: 0.000458\n",
      "Epoch [2][2500/3458]\tLoss: 4.762\tLR: 0.000455\n",
      "Epoch [2][2600/3458]\tLoss: 4.564\tLR: 0.000453\n",
      "Epoch [2][2700/3458]\tLoss: 4.542\tLR: 0.000451\n",
      "Epoch [2][2800/3458]\tLoss: 4.503\tLR: 0.000448\n",
      "Epoch [2][2900/3458]\tLoss: 4.838\tLR: 0.000446\n",
      "Epoch [2][3000/3458]\tLoss: 4.582\tLR: 0.000444\n",
      "Epoch [2][3100/3458]\tLoss: 4.669\tLR: 0.000442\n",
      "Epoch [2][3200/3458]\tLoss: 4.680\tLR: 0.000439\n",
      "Epoch [2][3300/3458]\tLoss: 4.479\tLR: 0.000437\n",
      "Epoch [2][3400/3458]\tLoss: 4.414\tLR: 0.000435\n",
      "Epoch [3][0/3458]\tLoss: 4.803\tLR: 0.000434\n",
      "Epoch [3][100/3458]\tLoss: 4.648\tLR: 0.000432\n",
      "Epoch [3][200/3458]\tLoss: 4.607\tLR: 0.000430\n",
      "Epoch [3][300/3458]\tLoss: 4.580\tLR: 0.000428\n",
      "Epoch [3][400/3458]\tLoss: 4.711\tLR: 0.000426\n",
      "Epoch [3][500/3458]\tLoss: 4.726\tLR: 0.000424\n",
      "Epoch [3][600/3458]\tLoss: 4.592\tLR: 0.000422\n",
      "Epoch [3][700/3458]\tLoss: 4.803\tLR: 0.000420\n",
      "Epoch [3][800/3458]\tLoss: 4.765\tLR: 0.000418\n",
      "Epoch [3][900/3458]\tLoss: 4.401\tLR: 0.000416\n",
      "Epoch [3][1000/3458]\tLoss: 4.527\tLR: 0.000414\n",
      "Epoch [3][1100/3458]\tLoss: 4.703\tLR: 0.000413\n",
      "Epoch [3][1200/3458]\tLoss: 4.714\tLR: 0.000411\n",
      "Epoch [3][1300/3458]\tLoss: 4.796\tLR: 0.000409\n",
      "Epoch [3][1400/3458]\tLoss: 4.700\tLR: 0.000407\n",
      "Epoch [3][1500/3458]\tLoss: 4.770\tLR: 0.000406\n",
      "Epoch [3][1600/3458]\tLoss: 4.387\tLR: 0.000404\n",
      "Epoch [3][1700/3458]\tLoss: 4.675\tLR: 0.000402\n",
      "Epoch [3][1800/3458]\tLoss: 4.663\tLR: 0.000401\n",
      "Epoch [3][1900/3458]\tLoss: 4.677\tLR: 0.000399\n",
      "Epoch [3][2000/3458]\tLoss: 4.676\tLR: 0.000397\n",
      "Epoch [3][2100/3458]\tLoss: 4.689\tLR: 0.000396\n",
      "Epoch [3][2200/3458]\tLoss: 4.552\tLR: 0.000394\n",
      "Epoch [3][2300/3458]\tLoss: 4.559\tLR: 0.000393\n",
      "Epoch [3][2400/3458]\tLoss: 4.488\tLR: 0.000391\n",
      "Epoch [3][2500/3458]\tLoss: 4.533\tLR: 0.000389\n",
      "Epoch [3][2600/3458]\tLoss: 4.815\tLR: 0.000388\n",
      "Epoch [3][2700/3458]\tLoss: 4.568\tLR: 0.000386\n",
      "Epoch [3][2800/3458]\tLoss: 4.500\tLR: 0.000385\n",
      "Epoch [3][2900/3458]\tLoss: 4.666\tLR: 0.000384\n",
      "Epoch [3][3000/3458]\tLoss: 4.565\tLR: 0.000382\n",
      "Epoch [3][3100/3458]\tLoss: 4.746\tLR: 0.000381\n",
      "Epoch [3][3200/3458]\tLoss: 4.652\tLR: 0.000379\n",
      "Epoch [3][3300/3458]\tLoss: 4.769\tLR: 0.000378\n",
      "Epoch [3][3400/3458]\tLoss: 4.702\tLR: 0.000377\n",
      "Epoch [4][0/3458]\tLoss: 4.416\tLR: 0.000376\n",
      "Epoch [4][100/3458]\tLoss: 4.583\tLR: 0.000374\n",
      "Epoch [4][200/3458]\tLoss: 4.627\tLR: 0.000373\n",
      "Epoch [4][300/3458]\tLoss: 4.409\tLR: 0.000372\n",
      "Epoch [4][400/3458]\tLoss: 4.412\tLR: 0.000370\n",
      "Epoch [4][500/3458]\tLoss: 4.687\tLR: 0.000369\n",
      "Epoch [4][600/3458]\tLoss: 4.587\tLR: 0.000368\n",
      "Epoch [4][700/3458]\tLoss: 4.816\tLR: 0.000367\n",
      "Epoch [4][800/3458]\tLoss: 4.737\tLR: 0.000365\n",
      "Epoch [4][900/3458]\tLoss: 4.588\tLR: 0.000364\n",
      "Epoch [4][1000/3458]\tLoss: 4.932\tLR: 0.000363\n",
      "Epoch [4][1100/3458]\tLoss: 4.423\tLR: 0.000362\n",
      "Epoch [4][1200/3458]\tLoss: 4.881\tLR: 0.000360\n",
      "Epoch [4][1300/3458]\tLoss: 4.648\tLR: 0.000359\n",
      "Epoch [4][1400/3458]\tLoss: 4.789\tLR: 0.000358\n",
      "Epoch [4][1500/3458]\tLoss: 4.695\tLR: 0.000357\n",
      "Epoch [4][1600/3458]\tLoss: 4.406\tLR: 0.000356\n",
      "Epoch [4][1700/3458]\tLoss: 4.630\tLR: 0.000355\n",
      "Epoch [4][1800/3458]\tLoss: 4.530\tLR: 0.000353\n",
      "Epoch [4][1900/3458]\tLoss: 4.554\tLR: 0.000352\n",
      "Epoch [4][2000/3458]\tLoss: 4.557\tLR: 0.000351\n",
      "Epoch [4][2100/3458]\tLoss: 4.569\tLR: 0.000350\n",
      "Epoch [4][2200/3458]\tLoss: 4.526\tLR: 0.000349\n",
      "Epoch [4][2300/3458]\tLoss: 4.816\tLR: 0.000348\n",
      "Epoch [4][2400/3458]\tLoss: 4.547\tLR: 0.000347\n",
      "Epoch [4][2500/3458]\tLoss: 4.777\tLR: 0.000346\n",
      "Epoch [4][2600/3458]\tLoss: 4.779\tLR: 0.000345\n",
      "Epoch [4][2700/3458]\tLoss: 4.558\tLR: 0.000344\n",
      "Epoch [4][2800/3458]\tLoss: 4.695\tLR: 0.000343\n",
      "Epoch [4][2900/3458]\tLoss: 4.517\tLR: 0.000342\n",
      "Epoch [4][3000/3458]\tLoss: 4.618\tLR: 0.000341\n",
      "Epoch [4][3100/3458]\tLoss: 4.668\tLR: 0.000340\n",
      "Epoch [4][3200/3458]\tLoss: 4.829\tLR: 0.000339\n",
      "Epoch [4][3300/3458]\tLoss: 4.345\tLR: 0.000338\n",
      "Epoch [4][3400/3458]\tLoss: 4.610\tLR: 0.000337\n"
     ]
    },
    {
     "data": {
      "image/png": "[encoded data removed]",
      "text/plain": [
       "<Figure size 1000x500 with 2 Axes>"
      ]
     },
     "metadata": {},
     "output_type": "display_data"
    }
   ],
   "source": [
    "\n",
    "LOSS = []\n",
    "LR   = []\n",
    "\n",
    "for epoch in range(epochs):\n",
    "\n",
    "    # train(train_loader, transformer, criterion, epoch)\n",
    "    # train(train_loader, transformer, criterion, epoch, heads)\n",
    "    # loss, lr = train(train_loader, transformer, criterion, epoch, heads)\n",
    "    loss, lr = train(train_loader, transformer, criterion, epoch)\n",
    "\n",
    "    LOSS.extend(loss)\n",
    "    LR.extend(lr)\n",
    "\n",
    "\n",
    "    # state = {'epoch': epoch, 'transformer': transformer, 'transformer_optimizer': transformer_optimizer}\n",
    "\n",
    "    # # torch.save(state, f'checkpoint_' + str(epoch) + '.pth.tar')\n",
    "    # torch.save(state, f'checkpoint_{str(epoch)}.pth.tar')\n",
    "\n",
    "\n",
    "plot_loss_lr(LOSS, LR)\n",
    "\n"
   ]
  },
  {
   "cell_type": "code",
   "execution_count": 62,
   "metadata": {
    "id": "J4rPJi3s22zR"
   },
   "outputs": [],
   "source": [
    "\n",
    "# checkpoint = torch.load(f'checkpoint_{epoch}.pth.tar')\n",
    "\n",
    "# transformer = checkpoint['transformer']\n",
    "\n"
   ]
  },
  {
   "cell_type": "code",
   "execution_count": 63,
   "metadata": {
    "colab": {
     "base_uri": "https://localhost:8080/"
    },
    "id": "gIA0pYhY22zR",
    "outputId": "1e97bbc4-bcb9-4800-919b-76ed39529efb"
   },
   "outputs": [
    {
     "name": "stdout",
     "output_type": "stream",
     "text": [
      "[In] >> tell me a joke\n",
      "Maximum Reply Length >>: 15\n",
      "i dont know\n",
      "[In] >> quit\n"
     ]
    }
   ],
   "source": [
    "\n",
    "while True:\n",
    "\n",
    "    question = input(\"[In] >> \")\n",
    "\n",
    "    if question == 'quit':\n",
    "        break\n",
    "\n",
    "    max_len = input(\"Maximum Reply Length >>: \")\n",
    "    enc_qus = [word_map.get(word, word_map['<unk>'])  for word in question.split()]\n",
    "\n",
    "    question = torch.LongTensor(enc_qus).to(device).unsqueeze(0)    # 2d dim, (batch_size, max_words) == (1, max_words)\n",
    "\n",
    "    question_mask = (question != 0).to(device).unsqueeze(1).unsqueeze(1)    # 4d dim, as in creat_mask_function\n",
    "                                                                            # (batch_size, 1, 1, max_words) == (1, 1, 1, max_words)\n",
    "\n",
    "\n",
    "    sentence = evaluate(transformer, question, question_mask, int(max_len), word_map)\n",
    "    print(sentence)\n",
    "\n",
    "\n"
   ]
  },
  {
   "cell_type": "code",
   "execution_count": 63,
   "metadata": {
    "id": "hrewHxorMtr7"
   },
   "outputs": [],
   "source": []
  }
 ],
 "metadata": {
  "accelerator": "GPU",
  "colab": {
   "provenance": []
  },
  "gpuClass": "standard",
  "kernelspec": {
   "display_name": "Python 3 (ipykernel)",
   "language": "python",
   "name": "python3"
  },
  "language_info": {
   "codemirror_mode": {
    "name": "ipython",
    "version": 3
   },
   "file_extension": ".py",
   "mimetype": "text/x-python",
   "name": "python",
   "nbconvert_exporter": "python",
   "pygments_lexer": "ipython3",
   "version": "3.11.6"
  }
 },
 "nbformat": 4,
 "nbformat_minor": 4
}
